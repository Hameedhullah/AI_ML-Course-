{
  "nbformat": 4,
  "nbformat_minor": 0,
  "metadata": {
    "colab": {
      "provenance": []
    },
    "kernelspec": {
      "name": "python3",
      "display_name": "Python 3"
    },
    "language_info": {
      "name": "python"
    }
  },
  "cells": [
    {
      "cell_type": "code",
      "execution_count": 1,
      "metadata": {
        "id": "L8d3GFu9jWcy"
      },
      "outputs": [],
      "source": [
        "url = 'https://github.com/prasertcbs/basic-dataset/blob/master/online_shoppers_intention.csv'"
      ]
    },
    {
      "cell_type": "code",
      "source": [],
      "metadata": {
        "id": "Imv7V82jkFzt"
      },
      "execution_count": null,
      "outputs": []
    }
  ]
}